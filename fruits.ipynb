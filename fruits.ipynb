{
 "cells": [
  {
   "cell_type": "code",
   "execution_count": 3,
   "id": "8e21d227-e383-4929-8774-910de9d77d14",
   "metadata": {},
   "outputs": [
    {
     "name": "stdout",
     "output_type": "stream",
     "text": [
      "Today's fruit is :Apple\n"
     ]
    }
   ],
   "source": [
    "#Choice fruits randomly\n",
    "import random\n",
    "fruits=['Apple', 'Orange', 'Banana', 'Pear', 'Tomato']\n",
    "cf=random.choice(fruits)\n",
    "\n",
    "print(\"Today's fruit is :\"+cf)"
   ]
  },
  {
   "cell_type": "code",
   "execution_count": 5,
   "id": "a1f3c582-9aee-417d-84a5-74c41b32e2a9",
   "metadata": {},
   "outputs": [
    {
     "name": "stdin",
     "output_type": "stream",
     "text": [
      "請輸入景氣對策信號綜合分數 17\n"
     ]
    },
    {
     "name": "stdout",
     "output_type": "stream",
     "text": [
      "黃藍燈\n"
     ]
    }
   ],
   "source": [
    "#景氣對策信號\n",
    "\n",
    "score=int(input('請輸入景氣對策信號綜合分數'))\n",
    "if score>=45 or score<9:\n",
    "    print('錯誤')\n",
    "elif score>=37:\n",
    "    print('紅燈')\n",
    "elif score>=31:\n",
    "    print('黃紅燈')\n",
    "elif score>=22:\n",
    "    print('綠燈')\n",
    "elif score>=16:\n",
    "    print('黃藍燈')\n",
    "elif score>=9:\n",
    "    print('藍燈')\n",
    "    "
   ]
  },
  {
   "cell_type": "code",
   "execution_count": 9,
   "id": "d4064fc2-fa22-498d-9cd7-d1766a62eef0",
   "metadata": {},
   "outputs": [
    {
     "name": "stdin",
     "output_type": "stream",
     "text": [
      "請輸入淨年所得額: 11000000\n"
     ]
    },
    {
     "name": "stdout",
     "output_type": "stream",
     "text": [
      "應繳稅額= 1283600.0\n"
     ]
    }
   ],
   "source": [
    "#綜合所得稅\n",
    "\n",
    "level1=520000*0.05\n",
    "level2=(1170000-520000)*0.12\n",
    "level3=(2350000-1170000)*0.2\n",
    "level4=(4400000-2350000)*0.3\n",
    "level5=(10000000-4400000)*0.4\n",
    "income=int(input('請輸入淨年所得額:'))\n",
    "\n",
    "if income <= 520000:\n",
    "    tax=income*0.05\n",
    "\n",
    "elif income <= 11700000:\n",
    "    tax=level1+((income-520000)*0.12)\n",
    "\n",
    "elif income<= 2350000:\n",
    "    tax=level+level2+((income-1170000)*0.2)\n",
    "    \n",
    "elif income<= 4400000:\n",
    "    tax=level+level2+level3+((income-2350000)*0.3)\n",
    "\n",
    "elif income<= 10000000:\n",
    "    tax=level+level2+level3++level4+((income-440000)*0.4)\n",
    "\n",
    "else:\n",
    "     tax=level+level2+level3++level4+level5+((income-10000000)*0.45)\n",
    "\n",
    "print('應繳稅額=', tax)"
   ]
  },
  {
   "cell_type": "code",
   "execution_count": null,
   "id": "1fcbdc5a-988a-44b0-9671-b497d9810738",
   "metadata": {},
   "outputs": [],
   "source": []
  }
 ],
 "metadata": {
  "kernelspec": {
   "display_name": "Python 3 (ipykernel)",
   "language": "python",
   "name": "python3"
  },
  "language_info": {
   "codemirror_mode": {
    "name": "ipython",
    "version": 3
   },
   "file_extension": ".py",
   "mimetype": "text/x-python",
   "name": "python",
   "nbconvert_exporter": "python",
   "pygments_lexer": "ipython3",
   "version": "3.12.7"
  }
 },
 "nbformat": 4,
 "nbformat_minor": 5
}
