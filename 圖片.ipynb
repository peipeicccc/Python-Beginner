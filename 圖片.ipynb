{
 "cells": [
  {
   "cell_type": "code",
   "execution_count": 28,
   "id": "a7991075-2640-4431-a83e-6c1bdf5d0c58",
   "metadata": {},
   "outputs": [],
   "source": [
    "from PIL import Image\n",
    "pic = Image.open(r'C:\\Users\\julia\\Pictures\\Screenshots\\vanguard.png')"
   ]
  },
  {
   "cell_type": "code",
   "execution_count": 29,
   "id": "d3bf06ee-b26c-40d1-8333-af89fc2dfdd3",
   "metadata": {},
   "outputs": [
    {
     "name": "stdout",
     "output_type": "stream",
     "text": [
      "圖片寬度: 978\n",
      "圖片高度: 613\n"
     ]
    }
   ],
   "source": [
    "print('圖片寬度:', pic.width)\n",
    "print('圖片高度:', pic.height)"
   ]
  },
  {
   "cell_type": "code",
   "execution_count": 30,
   "id": "a17902cc-7f23-4e97-9365-aa7146e10847",
   "metadata": {},
   "outputs": [
    {
     "name": "stdout",
     "output_type": "stream",
     "text": [
      "圖片檔案格式: PNG\n",
      "圖片色彩模式: RGBA\n",
      "圖片大小: (978, 613)\n"
     ]
    }
   ],
   "source": [
    "print('圖片檔案格式:', pic.format)\n",
    "print('圖片色彩模式:', pic.mode)\n",
    "print('圖片大小:', pic.size)"
   ]
  },
  {
   "cell_type": "code",
   "execution_count": 31,
   "id": "f5cfae89-cc76-45a1-a63b-48fab77dcf6f",
   "metadata": {},
   "outputs": [],
   "source": [
    "pic.show()"
   ]
  },
  {
   "cell_type": "code",
   "execution_count": 32,
   "id": "c27965bd-2ee6-4b87-b0a4-2ca04e721ba6",
   "metadata": {},
   "outputs": [
    {
     "name": "stdout",
     "output_type": "stream",
     "text": [
      "原本的圖片色彩模式: RGBA\n",
      "轉換黑白後的圖片色彩模式: 1\n"
     ]
    }
   ],
   "source": [
    "print('原本的圖片色彩模式:', pic.mode)\n",
    "new_pic = pic.convert('1')  # 轉成黑白（二值）\n",
    "new_pic.show()\n",
    "print('轉換黑白後的圖片色彩模式:', new_pic.mode)"
   ]
  },
  {
   "cell_type": "code",
   "execution_count": 33,
   "id": "c67b2b4e-8ce3-4fac-a573-be3592895148",
   "metadata": {},
   "outputs": [],
   "source": [
    "new_pic = pic.rotate(30)\n",
    "new_pic.show()"
   ]
  },
  {
   "cell_type": "code",
   "execution_count": 34,
   "id": "ca9c6864-1023-4d51-9d8b-95b917b14010",
   "metadata": {},
   "outputs": [],
   "source": [
    "new_pic = pic.rotate(-30)\n",
    "new_pic.show()"
   ]
  },
  {
   "cell_type": "code",
   "execution_count": 35,
   "id": "9ce67cc1-7ded-44f3-9291-625a8a15ef92",
   "metadata": {},
   "outputs": [],
   "source": [
    "from PIL import Image\n",
    "from PIL import ImageFilter\n",
    "pic = Image.open(r'C:\\Users\\julia\\Pictures\\Screenshots\\vanguard.png')"
   ]
  },
  {
   "cell_type": "code",
   "execution_count": 36,
   "id": "fa4c9b32-26c6-41d6-96d2-1d69d6dbdaca",
   "metadata": {},
   "outputs": [],
   "source": [
    "new_pic = pic.filter(ImageFilter.CONTOUR)\n",
    "new_pic.save('C:/Users/julia/Pictures/vanguard2.png')\n",
    "new_pic.show()"
   ]
  },
  {
   "cell_type": "code",
   "execution_count": 37,
   "id": "87372206-5a8d-4d19-8fa0-f0e74e0ff7b4",
   "metadata": {},
   "outputs": [
    {
     "name": "stdout",
     "output_type": "stream",
     "text": [
      "原圖大小: (978, 613)\n",
      "縮放後圖形大小: (400, 400)\n"
     ]
    }
   ],
   "source": [
    "print('原圖大小:', pic.size)\n",
    "new_pic = pic.resize((400, 400))\n",
    "print('縮放後圖形大小:', new_pic.size)\n",
    "new_pic.save('C:/Users/julia/Pictures/vanguard3.png')\n",
    "new_pic.show()"
   ]
  },
  {
   "cell_type": "code",
   "execution_count": 44,
   "id": "bf39cd72-f69e-4cb4-b95b-4c2466153e24",
   "metadata": {},
   "outputs": [],
   "source": [
    "from PIL import Image, ImageFont, ImageDraw\n",
    "pic = Image.open(r'C:\\Users\\julia\\Pictures\\Screenshots\\vanguard.png')"
   ]
  },
  {
   "cell_type": "code",
   "execution_count": 45,
   "id": "0888e658-667d-4aaa-94da-943ae7b4d094",
   "metadata": {},
   "outputs": [],
   "source": [
    "t_font = ImageFont.truetype('c://Windows//Fonts//Arial//arial.ttf', 30)\n",
    "draw = ImageDraw.Draw(pic)\n",
    "draw.text((20, 30), 'Money', font=t_font, fill=(255, 0, 0, 255))\n",
    "draw.text((20, 100), 'Money', font=t_font, fill=(0, 255, 0, 255))\n",
    "pic.show()"
   ]
  },
  {
   "cell_type": "code",
   "execution_count": null,
   "id": "34281758-614b-4f15-b297-1a25ae239276",
   "metadata": {},
   "outputs": [],
   "source": []
  }
 ],
 "metadata": {
  "kernelspec": {
   "display_name": "Python 3 (ipykernel)",
   "language": "python",
   "name": "python3"
  },
  "language_info": {
   "codemirror_mode": {
    "name": "ipython",
    "version": 3
   },
   "file_extension": ".py",
   "mimetype": "text/x-python",
   "name": "python",
   "nbconvert_exporter": "python",
   "pygments_lexer": "ipython3",
   "version": "3.12.7"
  }
 },
 "nbformat": 4,
 "nbformat_minor": 5
}
