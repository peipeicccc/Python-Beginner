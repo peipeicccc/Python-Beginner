{
 "cells": [
  {
   "cell_type": "code",
   "execution_count": 1,
   "id": "39d76e61-4290-4d40-85f4-36261809a021",
   "metadata": {},
   "outputs": [
    {
     "name": "stdout",
     "output_type": "stream",
     "text": [
      "36\n"
     ]
    }
   ],
   "source": [
    "# X^2\n",
    "lamret=lambda x:x**2\n",
    "print(lamret(6))"
   ]
  },
  {
   "cell_type": "code",
   "execution_count": 2,
   "id": "5bed1408-927f-46bb-aaca-fbe01261eadd",
   "metadata": {},
   "outputs": [
    {
     "data": {
      "text/plain": [
       "function"
      ]
     },
     "execution_count": 2,
     "metadata": {},
     "output_type": "execute_result"
    }
   ],
   "source": [
    "type(lamret)"
   ]
  },
  {
   "cell_type": "code",
   "execution_count": 4,
   "id": "96869078-366e-4161-a1d6-5898367aebe6",
   "metadata": {},
   "outputs": [
    {
     "name": "stdout",
     "output_type": "stream",
     "text": [
      "2.0\n"
     ]
    }
   ],
   "source": [
    "#f(x,y,z)=(x-y)^z/2\n",
    "lambret2=lambda x, y, z: ((x-y)**z)/2\n",
    "print(lambret2(3,1,2))"
   ]
  },
  {
   "cell_type": "code",
   "execution_count": 5,
   "id": "8594090e-2473-4e6d-ab11-c575fe0f3025",
   "metadata": {},
   "outputs": [
    {
     "name": "stdout",
     "output_type": "stream",
     "text": [
      "16\n"
     ]
    }
   ],
   "source": [
    "lambret3=lambda x, y: x**2 if x>y else 1/x**2\n",
    "print(lambret3(4,3))"
   ]
  },
  {
   "cell_type": "code",
   "execution_count": 6,
   "id": "b6f36bb1-779d-422e-a222-2c07841250ca",
   "metadata": {},
   "outputs": [
    {
     "name": "stdout",
     "output_type": "stream",
     "text": [
      "0.0625\n"
     ]
    }
   ],
   "source": [
    "print(lambret3(4,5))"
   ]
  },
  {
   "cell_type": "code",
   "execution_count": 9,
   "id": "36361872-db04-484b-8060-50d485d32366",
   "metadata": {},
   "outputs": [
    {
     "name": "stdout",
     "output_type": "stream",
     "text": [
      "呼叫函數(x**2)+(4*x)+6 38\n"
     ]
    }
   ],
   "source": [
    "#x^2+4x+6\n",
    "\n",
    "def polyequ(x):\n",
    "    return(x**2)+(4*x)+6\n",
    "sample=4\n",
    "result=polyequ(sample)\n",
    "print('呼叫函數(x**2)+(4*x)+6', result)"
   ]
  },
  {
   "cell_type": "code",
   "execution_count": 22,
   "id": "ae9c7393-4e31-448a-b78e-9b83dbf28eb0",
   "metadata": {},
   "outputs": [
    {
     "name": "stdout",
     "output_type": "stream",
     "text": [
      "6*x\n",
      "12.0\n"
     ]
    },
    {
     "name": "stderr",
     "output_type": "stream",
     "text": [
      "C:\\Users\\julia\\AppData\\Local\\Temp\\ipykernel_23460\\2692988610.py:9: DeprecationWarning: scipy.misc.derivative is deprecated in SciPy v1.10.0; and will be completely removed in SciPy v1.12.0. You may consider using findiff: https://github.com/maroba/findiff or numdifftools: https://github.com/pbrod/numdifftools\n",
      "  print(derivative(f, 2))\n"
     ]
    }
   ],
   "source": [
    "import sympy as sp\n",
    "x = sp.Symbol('x')\n",
    "print(sp.diff(3*x**2+1, x))\n",
    "\n",
    "from scipy.misc import derivative\n",
    "def f(x):\n",
    "    return 3*x**2+1\n",
    "\n",
    "print(derivative(f, 2))"
   ]
  },
  {
   "cell_type": "code",
   "execution_count": 23,
   "id": "840cb618-c3e9-4ec5-b7a8-7d19ea73535a",
   "metadata": {},
   "outputs": [
    {
     "name": "stdout",
     "output_type": "stream",
     "text": [
      "12.0\n"
     ]
    },
    {
     "name": "stderr",
     "output_type": "stream",
     "text": [
      "C:\\Users\\julia\\AppData\\Local\\Temp\\ipykernel_23460\\2517517944.py:2: DeprecationWarning: scipy.misc.derivative is deprecated in SciPy v1.10.0; and will be completely removed in SciPy v1.12.0. You may consider using findiff: https://github.com/maroba/findiff or numdifftools: https://github.com/pbrod/numdifftools\n",
      "  return derivative(f,x)\n"
     ]
    },
    {
     "data": {
      "text/plain": [
       "[<matplotlib.lines.Line2D at 0x162e8c52180>]"
      ]
     },
     "execution_count": 23,
     "metadata": {},
     "output_type": "execute_result"
    }
   ],
   "source": [
    "def d(x):\n",
    "    return derivative(f,x)\n",
    "\n",
    "print(d(2))\n",
    "\n",
    "%matplotlib inline\n",
    "import matplotlib.pyplot as plt\n",
    "import numpy as np\n",
    "\n",
    "y=np.linspace(-3,3)\n",
    "plt.plot(y,f(y))\n",
    "plt.plot(y,d(y))"
   ]
  },
  {
   "cell_type": "code",
   "execution_count": 24,
   "id": "4eb44f23-b345-4d5f-9e60-f2c47ff9d819",
   "metadata": {},
   "outputs": [
    {
     "data": {
      "image/png": "[encoded data removed]",
      "text/plain": [
       "<Figure size 640x480 with 1 Axes>"
      ]
     },
     "metadata": {},
     "output_type": "display_data"
    }
   ],
   "source": [
    "plt.show()"
   ]
  },
  {
   "cell_type": "code",
   "execution_count": 25,
   "id": "70850c50-4e6a-4792-b777-b97f60cb15f0",
   "metadata": {},
   "outputs": [
    {
     "name": "stdin",
     "output_type": "stream",
     "text": [
      "Please input dx= 4\n"
     ]
    },
    {
     "name": "stdout",
     "output_type": "stream",
     "text": [
      "area= 20.0\n"
     ]
    }
   ],
   "source": [
    "import numpy as np\n",
    "dx=float(input('Please input dx='))\n",
    "area=0\n",
    "y=0\n",
    "for x in np.arange(2,5,dx):\n",
    "    y=(x**2)+1\n",
    "    area=area+(y*dx)\n",
    "print('area=',area)"
   ]
  },
  {
   "cell_type": "code",
   "execution_count": 26,
   "id": "74a775bc-b611-4668-8d19-07ac4b000ddb",
   "metadata": {},
   "outputs": [
    {
     "data": {
      "text/latex": [
       "$\\displaystyle 1.0 x^{3} + 1.0 x$"
      ],
      "text/plain": [
       "1.0*x**3 + 1.0*x"
      ]
     },
     "execution_count": 26,
     "metadata": {},
     "output_type": "execute_result"
    }
   ],
   "source": [
    "import sympy as sp\n",
    "x=sp.Symbol('x')\n",
    "sp.integrate(3.0*x**2+1,x)"
   ]
  },
  {
   "cell_type": "code",
   "execution_count": 27,
   "id": "b278e5a8-2f03-4724-ad67-c0ae87f2fe90",
   "metadata": {},
   "outputs": [
    {
     "name": "stdout",
     "output_type": "stream",
     "text": [
      "10.000000000000002\n"
     ]
    }
   ],
   "source": [
    "from scipy.integrate import quad\n",
    "def f(x):\n",
    "    return 3*x**2+1\n",
    "\n",
    "i=quad(f,0,2)\n",
    "print(i[0])"
   ]
  },
  {
   "cell_type": "code",
   "execution_count": 28,
   "id": "fac4fe3a-f2c6-4297-a87b-17cdab63b765",
   "metadata": {},
   "outputs": [
    {
     "data": {
      "text/latex": [
       "$\\displaystyle - 0.333333333333333 \\cos{\\left(3.0 x \\right)}$"
      ],
      "text/plain": [
       "-0.333333333333333*cos(3.0*x)"
      ]
     },
     "execution_count": 28,
     "metadata": {},
     "output_type": "execute_result"
    }
   ],
   "source": [
    "import sympy as sp\n",
    "x=sp.Symbol('x')\n",
    "sp.integrate(sp.sin(3.0*x),)"
   ]
  },
  {
   "cell_type": "code",
   "execution_count": 29,
   "id": "0b60a17a-ea8d-4696-b529-cd7d909552da",
   "metadata": {},
   "outputs": [
    {
     "name": "stdout",
     "output_type": "stream",
     "text": [
      "0.29943976718048754\n"
     ]
    }
   ],
   "source": [
    "from scipy.integrate import quad\n",
    "import numpy as np   \n",
    "def f(x):\n",
    "    return np.exp(-x)*np.sin(3*x)\n",
    "\n",
    "i=quad(f,0,2*np.pi)\n",
    "print(i[0])"
   ]
  },
  {
   "cell_type": "code",
   "execution_count": 37,
   "id": "aa4ba755-e64c-4464-a140-214c2e9f6174",
   "metadata": {},
   "outputs": [],
   "source": [
    "import numpy as np"
   ]
  },
  {
   "cell_type": "code",
   "execution_count": null,
   "id": "370bcb1b-6962-4af1-b218-81b06e5def37",
   "metadata": {},
   "outputs": [],
   "source": [
    "A =np.array([[3,-9],[2,4]])"
   ]
  },
  {
   "cell_type": "code",
   "execution_count": 36,
   "id": "4a1c5246-24a1-4132-bf85-7b255d7a53a5",
   "metadata": {},
   "outputs": [
    {
     "name": "stdout",
     "output_type": "stream",
     "text": [
      "[[ 3 -9]\n",
      " [ 2  4]]\n"
     ]
    }
   ],
   "source": [
    "print(A)"
   ]
  },
  {
   "cell_type": "code",
   "execution_count": 38,
   "id": "f5b82115-bf3b-4e81-9c1d-45378c454b93",
   "metadata": {},
   "outputs": [],
   "source": [
    "B= np.array([-42,2])"
   ]
  },
  {
   "cell_type": "code",
   "execution_count": 41,
   "id": "47367a5e-124a-4c49-acbe-ecc9b4a70e46",
   "metadata": {},
   "outputs": [],
   "source": [
    "Z = np.linalg.solve(A,B)"
   ]
  },
  {
   "cell_type": "code",
   "execution_count": 43,
   "id": "4816533b-683d-4dbc-b95d-03c619f501aa",
   "metadata": {},
   "outputs": [
    {
     "name": "stdout",
     "output_type": "stream",
     "text": [
      "[-5.  3.]\n"
     ]
    }
   ],
   "source": [
    "print(Z)"
   ]
  },
  {
   "cell_type": "code",
   "execution_count": 44,
   "id": "4a329294-2b4e-4e0c-a606-f03babef9e24",
   "metadata": {},
   "outputs": [],
   "source": [
    "M=np.array([[1,-2,-1],[2,2,-1],[-1,-1,2]])"
   ]
  },
  {
   "cell_type": "code",
   "execution_count": 45,
   "id": "9a3700a0-985c-49c4-9cba-91e4d35ec9ea",
   "metadata": {},
   "outputs": [
    {
     "name": "stdout",
     "output_type": "stream",
     "text": [
      "[[ 1 -2 -1]\n",
      " [ 2  2 -1]\n",
      " [-1 -1  2]]\n"
     ]
    }
   ],
   "source": [
    "print(M)"
   ]
  },
  {
   "cell_type": "code",
   "execution_count": 46,
   "id": "1a0a1f99-0ea1-4e8e-9442-2c74b90bfda4",
   "metadata": {},
   "outputs": [],
   "source": [
    "c=np.array([6,1,1])"
   ]
  },
  {
   "cell_type": "code",
   "execution_count": 47,
   "id": "e4e0b577-824c-4876-abba-46493fdacca7",
   "metadata": {},
   "outputs": [],
   "source": [
    "y= np.linalg.solve(M,c)"
   ]
  },
  {
   "cell_type": "code",
   "execution_count": 48,
   "id": "4536e25c-94bc-4463-90fd-26eaec132f81",
   "metadata": {},
   "outputs": [
    {
     "name": "stdout",
     "output_type": "stream",
     "text": [
      "[ 3. -2.  1.]\n"
     ]
    }
   ],
   "source": [
    "print(y)"
   ]
  },
  {
   "cell_type": "code",
   "execution_count": null,
   "id": "cf1859d6-7c2b-4771-8b87-2dc4b282f4f3",
   "metadata": {},
   "outputs": [],
   "source": []
  }
 ],
 "metadata": {
  "kernelspec": {
   "display_name": "Python 3 (ipykernel)",
   "language": "python",
   "name": "python3"
  },
  "language_info": {
   "codemirror_mode": {
    "name": "ipython",
    "version": 3
   },
   "file_extension": ".py",
   "mimetype": "text/x-python",
   "name": "python",
   "nbconvert_exporter": "python",
   "pygments_lexer": "ipython3",
   "version": "3.12.7"
  }
 },
 "nbformat": 4,
 "nbformat_minor": 5
}
